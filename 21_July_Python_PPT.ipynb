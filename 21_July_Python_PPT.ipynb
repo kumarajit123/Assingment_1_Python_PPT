{
 "cells": [
  {
   "cell_type": "code",
   "execution_count": null,
   "id": "436a6ca1",
   "metadata": {},
   "outputs": [],
   "source": [
    "# Q1. Write a Python program to check if a given string is an anagram."
   ]
  },
  {
   "cell_type": "code",
   "execution_count": 1,
   "id": "cdf3466a",
   "metadata": {},
   "outputs": [
    {
     "name": "stdout",
     "output_type": "stream",
     "text": [
      "Enter the first word: listen\n",
      "Enter the second word: silent\n",
      "The words are anagrams.\n"
     ]
    }
   ],
   "source": [
    "def is_anagram(str1, str2):\n",
    "    # Remove whitespace and convert to lowercase\n",
    "    str1 = str1.replace(\" \", \"\").lower()\n",
    "    str2 = str2.replace(\" \", \"\").lower()\n",
    "\n",
    "    # Check if the sorted strings are equal\n",
    "    return sorted(str1) == sorted(str2)\n",
    "\n",
    "\n",
    "# Test the function\n",
    "word1 = input(\"Enter the first word: \")\n",
    "word2 = input(\"Enter the second word: \")\n",
    "\n",
    "if is_anagram(word1, word2):\n",
    "    print(\"The words are anagrams.\")\n",
    "else:\n",
    "    print(\"The words are not anagrams.\")\n"
   ]
  },
  {
   "cell_type": "code",
   "execution_count": null,
   "id": "162da11d",
   "metadata": {},
   "outputs": [],
   "source": [
    "# 2. Write a Python program to find the maximum and minimum values in a dictionary."
   ]
  },
  {
   "cell_type": "code",
   "execution_count": 2,
   "id": "2ac8b346",
   "metadata": {},
   "outputs": [
    {
     "name": "stdout",
     "output_type": "stream",
     "text": [
      "Maximum value: 15\n",
      "Minimum value: 2\n"
     ]
    }
   ],
   "source": [
    "def find_max_min(dictionary):\n",
    "    # Find the maximum value\n",
    "    max_value = max(dictionary.values())\n",
    "\n",
    "    # Find the minimum value\n",
    "    min_value = min(dictionary.values())\n",
    "\n",
    "    return max_value, min_value\n",
    "\n",
    "\n",
    "# Test the function\n",
    "my_dict = {\"a\": 10, \"b\": 5, \"c\": 15, \"d\": 2}\n",
    "\n",
    "max_val, min_val = find_max_min(my_dict)\n",
    "\n",
    "print(\"Maximum value:\", max_val)\n",
    "print(\"Minimum value:\", min_val)\n"
   ]
  },
  {
   "cell_type": "code",
   "execution_count": null,
   "id": "e655b0a5",
   "metadata": {},
   "outputs": [],
   "source": [
    "# 3. Write a Python program to find the average of a list of numbers."
   ]
  },
  {
   "cell_type": "code",
   "execution_count": 3,
   "id": "6ceb30b1",
   "metadata": {},
   "outputs": [
    {
     "name": "stdout",
     "output_type": "stream",
     "text": [
      "Average: 49.0\n"
     ]
    }
   ],
   "source": [
    "def calculate_average(numbers):\n",
    "    # Check if the list is empty\n",
    "    if len(numbers) == 0:\n",
    "        return None\n",
    "\n",
    "    # Calculate the sum of numbers\n",
    "    total = sum(numbers)\n",
    "\n",
    "    # Calculate the average\n",
    "    average = total / len(numbers)\n",
    "\n",
    "    return average\n",
    "\n",
    "\n",
    "# Test the function\n",
    "num_list = [21, 52, 33, 74, 65]\n",
    "\n",
    "avg = calculate_average(num_list)\n",
    "\n",
    "print(\"Average:\", avg)\n"
   ]
  },
  {
   "cell_type": "code",
   "execution_count": null,
   "id": "be041243",
   "metadata": {},
   "outputs": [],
   "source": [
    "# 4. Write a Python program to remove all vowels from a string."
   ]
  },
  {
   "cell_type": "code",
   "execution_count": 4,
   "id": "6377788b",
   "metadata": {},
   "outputs": [
    {
     "name": "stdout",
     "output_type": "stream",
     "text": [
      "Result: nrn, PwSklls\n"
     ]
    }
   ],
   "source": [
    "def remove_vowels(string):\n",
    "    vowels = \"aeiouAEIOU\"  # Define a string containing all vowels\n",
    "    vowels_removed = \"\"\n",
    "\n",
    "    for char in string:\n",
    "        if char not in vowels:\n",
    "            vowels_removed += char\n",
    "\n",
    "    return vowels_removed\n",
    "\n",
    "\n",
    "# Test the function\n",
    "input_string = \"Ineuron, PwSkills\"\n",
    "# 5. Write a Python function to calculate the factorial of a number using recursion.\n",
    "result = remove_vowels(input_string)\n",
    "\n",
    "print(\"Result:\", result)\n"
   ]
  },
  {
   "cell_type": "code",
   "execution_count": null,
   "id": "7e1ac04c",
   "metadata": {},
   "outputs": [],
   "source": [
    "# 5. Write a Python function to calculate the factorial of a number using recursion."
   ]
  },
  {
   "cell_type": "code",
   "execution_count": 6,
   "id": "312d3723",
   "metadata": {},
   "outputs": [
    {
     "name": "stdout",
     "output_type": "stream",
     "text": [
      "Factorial of 15 is: 1307674368000\n"
     ]
    }
   ],
   "source": [
    "def factorial_recursive(n):\n",
    "    # Base case: factorial of 0 or 1 is 1\n",
    "    if n == 0 or n == 1:\n",
    "        return 1\n",
    "    # Recursive case: calculate factorial using recursion\n",
    "    else:\n",
    "        return n * factorial_recursive(n - 1)\n",
    "\n",
    "\n",
    "# Test the function\n",
    "number = 15\n",
    "\n",
    "result = factorial_recursive(number)\n",
    "\n",
    "print(\"Factorial of\", number, \"is:\", result)\n"
   ]
  },
  {
   "cell_type": "code",
   "execution_count": null,
   "id": "3d656068",
   "metadata": {},
   "outputs": [],
   "source": [
    "# 6. Write a Python program to merge two unsorted lists into a single sorted list using the merge sort algorithm."
   ]
  },
  {
   "cell_type": "code",
   "execution_count": 8,
   "id": "523f54e3",
   "metadata": {},
   "outputs": [
    {
     "name": "stdout",
     "output_type": "stream",
     "text": [
      "Merged and sorted list: [1, 2, 3, 4, 5, 6, 7, 8, 9, 10]\n"
     ]
    }
   ],
   "source": [
    "def merge_sort(arr):\n",
    "    # Base case: return the array if it's empty or has only one element\n",
    "    if len(arr) <= 1:\n",
    "        return arr\n",
    "\n",
    "    # Divide the array into two halves\n",
    "    mid = len(arr) // 2\n",
    "    left_half = merge_sort(arr[:mid])\n",
    "    right_half = merge_sort(arr[mid:])\n",
    "\n",
    "    merged = []\n",
    "    # Compare elements from left and right halves and add them to merged list\n",
    "    while left_half and right_half:\n",
    "        if left_half[0] < right_half[0]:\n",
    "            merged.append(left_half.pop(0))\n",
    "        else:\n",
    "            merged.append(right_half.pop(0))\n",
    "\n",
    "    merged.extend(left_half)\n",
    "    merged.extend(right_half)\n",
    "\n",
    "    return merged\n",
    "\n",
    "\n",
    "# Test the function\n",
    "list1 = [5, 3, 8, 2, 9]\n",
    "list2 = [7, 1, 4, 6, 10]\n",
    "\n",
    "merged_list = merge_sort(list1 + list2)\n",
    "\n",
    "print(\"Merged and sorted list:\", merged_list)\n"
   ]
  },
  {
   "cell_type": "code",
   "execution_count": null,
   "id": "fa29c3f3",
   "metadata": {},
   "outputs": [],
   "source": [
    "# 7. Write a Python program to find the GCD (Greatest Common Divisor) of two numbers."
   ]
  },
  {
   "cell_type": "code",
   "execution_count": 9,
   "id": "b7ef11de",
   "metadata": {},
   "outputs": [
    {
     "name": "stdout",
     "output_type": "stream",
     "text": [
      "GCD of 24 and 36 is: 12\n"
     ]
    }
   ],
   "source": [
    "def gcd(a, b):\n",
    "    # Base case: GCD is the absolute value of the nonzero number\n",
    "    if b == 0:\n",
    "        return abs(a)\n",
    "    else:\n",
    "        # Recursive case: Call the function with (b, remainder of a/b)\n",
    "        return gcd(b, a % b)\n",
    "\n",
    "\n",
    "# Test the function\n",
    "num1 = 24\n",
    "num2 = 36\n",
    "\n",
    "result = gcd(num1, num2)\n",
    "\n",
    "print(\"GCD of\", num1, \"and\", num2, \"is:\", result)\n"
   ]
  },
  {
   "cell_type": "code",
   "execution_count": null,
   "id": "dcdd40fb",
   "metadata": {},
   "outputs": [],
   "source": [
    "# 8. Write a Python program to find the second-largest element in a list."
   ]
  },
  {
   "cell_type": "code",
   "execution_count": 10,
   "id": "b58694d7",
   "metadata": {},
   "outputs": [
    {
     "name": "stdout",
     "output_type": "stream",
     "text": [
      "Second largest element: 8\n"
     ]
    }
   ],
   "source": [
    "def find_second_largest(numbers):\n",
    "    # Check if the list has at least two elements\n",
    "    if len(numbers) < 2:\n",
    "        return None\n",
    "\n",
    "    largest = float('-inf')  # Set initial largest value to negative infinity\n",
    "    second_largest = float('-inf')  # Set initial second largest value to negative infinity\n",
    "\n",
    "    # Traverse the list and update the largest and second largest values\n",
    "    for num in numbers:\n",
    "        if num > largest:\n",
    "            second_largest = largest\n",
    "            largest = num\n",
    "        elif num > second_largest and num != largest:\n",
    "            second_largest = num\n",
    "\n",
    "    # Return the second largest element\n",
    "    return second_largest\n",
    "\n",
    "\n",
    "# Test the function\n",
    "num_list = [5, 8, 2, 10, 3, 7]\n",
    "\n",
    "second_largest = find_second_largest(num_list)\n",
    "\n",
    "if second_largest is None:\n",
    "    print(\"List has fewer than two elements.\")\n",
    "else:\n",
    "    print(\"Second largest element:\", second_largest)\n"
   ]
  },
  {
   "cell_type": "code",
   "execution_count": null,
   "id": "e41b0de9",
   "metadata": {},
   "outputs": [],
   "source": [
    "# 9. Write a Python program to find the longest common subsequence between two strings using dynamic programming."
   ]
  },
  {
   "cell_type": "code",
   "execution_count": 11,
   "id": "42979276",
   "metadata": {},
   "outputs": [
    {
     "name": "stdout",
     "output_type": "stream",
     "text": [
      "Longest Common Subsequence: GTAB\n"
     ]
    }
   ],
   "source": [
    "def longest_common_subsequence(str1, str2):\n",
    "    m = len(str1)\n",
    "    n = len(str2)\n",
    "\n",
    "    # Create a 2D table to store the lengths of LCSs\n",
    "    table = [[0] * (n + 1) for _ in range(m + 1)]\n",
    "\n",
    "    # Build the table using dynamic programming\n",
    "    for i in range(1, m + 1):\n",
    "        for j in range(1, n + 1):\n",
    "            if str1[i - 1] == str2[j - 1]:\n",
    "                table[i][j] = table[i - 1][j - 1] + 1\n",
    "            else:\n",
    "                table[i][j] = max(table[i - 1][j], table[i][j - 1])\n",
    "\n",
    "    # Read the LCS from the table\n",
    "    lcs = \"\"\n",
    "    i, j = m, n\n",
    "    while i > 0 and j > 0:\n",
    "        if str1[i - 1] == str2[j - 1]:\n",
    "            lcs = str1[i - 1] + lcs\n",
    "            i -= 1\n",
    "            j -= 1\n",
    "        elif table[i - 1][j] > table[i][j - 1]:\n",
    "            i -= 1\n",
    "        else:\n",
    "            j -= 1\n",
    "\n",
    "    return lcs\n",
    "\n",
    "\n",
    "# Test the function\n",
    "string1 = \"AGGTAB\"\n",
    "string2 = \"GXTXAYB\"\n",
    "\n",
    "result = longest_common_subsequence(string1, string2)\n",
    "\n",
    "print(\"Longest Common Subsequence:\", result)\n"
   ]
  },
  {
   "cell_type": "code",
   "execution_count": null,
   "id": "0228dea5",
   "metadata": {},
   "outputs": [],
   "source": []
  }
 ],
 "metadata": {
  "kernelspec": {
   "display_name": "Python 3 (ipykernel)",
   "language": "python",
   "name": "python3"
  },
  "language_info": {
   "codemirror_mode": {
    "name": "ipython",
    "version": 3
   },
   "file_extension": ".py",
   "mimetype": "text/x-python",
   "name": "python",
   "nbconvert_exporter": "python",
   "pygments_lexer": "ipython3",
   "version": "3.11.3"
  }
 },
 "nbformat": 4,
 "nbformat_minor": 5
}
